{
 "cells": [
  {
   "cell_type": "markdown",
   "id": "2455faa8",
   "metadata": {},
   "source": [
    "# Linear Regression\n",
    "\n",
    "Linear Regression is a fundamental statistical and machine learning technique used to predict a target variable using one or more independent variables. It assumes a linear relationship between the input variables (X) and the single output variable (y).\n",
    "\n",
    "<img src=\"linear-regression.jpg\" alt=\"Linear Regression\" style=\"width: 420px;\"/>\n",
    "\n",
    "## The Equation of a Line\n",
    "\n",
    "The equation for a linear model can be written as:\n",
    "\n",
    "$ y = \\beta_0 + \\beta_1 X_1 + \\beta_2 X_2 + ... + \\beta_n X_n + \\epsilon $\n",
    "\n",
    "where:\n",
    "- $ y $ is the dependent variable (target),\n",
    "- $ \\beta_0 $ is the y-intercept,\n",
    "- $ \\beta_1, ..., \\beta_n $ are the coefficients,\n",
    "- $ X_1, ..., X_n $ are the independent variables (features),\n",
    "- $ \\epsilon $ is the error term (difference between prediction and reality).\n",
    "\n",
    "## Ordinary Least Squares (OLS)\n",
    "\n",
    "The objective of linear regression is to find the line that best fits the data. This is done by minimizing the sum of the squares of the vertical distances (residuals) between the observations and the line. The OLS estimator can be calculated using the formula:\n",
    "\n",
    "$ \\beta = (X^TX)^{-1}X^TY $\n",
    "\n",
    "where:\n",
    "- $ X $ is the matrix of input features with a column of ones added for the intercept,\n",
    "- $ Y $ is the vector of target values.\n",
    "\n",
    "## Model Evaluation\n",
    "\n",
    "To evaluate the performance of a linear regression model, we can use metrics such as R-squared and Mean Squared Error (MSE). R-squared represents the proportion of variance for the dependent variable that's explained by the independent variables in the model. It is calculated as:\n",
    "\n",
    "$ R^2 = 1 - \\frac{SS_{res}}{SS_{tot}} $\n",
    "\n",
    "MSE is the average of the squares of the errors and is calculated as:\n",
    "\n",
    "$ MSE = \\frac{1}{n} \\sum_{i=1}^{n}(Y_i - \\hat{Y_i})^2 $\n",
    "\n",
    "where $ \\hat{Y_i} $ are the predicted values.\n"
   ]
  },
  {
   "cell_type": "code",
   "execution_count": 1,
   "id": "ca91b8f9",
   "metadata": {},
   "outputs": [],
   "source": [
    "import numpy as np\n",
    "import pandas as pd\n",
    "import matplotlib.pyplot as plt\n",
    "from sklearn import datasets\n",
    "from sklearn.model_selection import train_test_split\n",
    "from sklearn.metrics import r2_score, mean_squared_error"
   ]
  },
  {
   "cell_type": "markdown",
   "id": "1201acff",
   "metadata": {},
   "source": [
    "## Loading the Dataset"
   ]
  },
  {
   "cell_type": "code",
   "execution_count": 2,
   "id": "8357fe25",
   "metadata": {},
   "outputs": [
    {
     "data": {
      "text/html": [
       "<div>\n",
       "<style scoped>\n",
       "    .dataframe tbody tr th:only-of-type {\n",
       "        vertical-align: middle;\n",
       "    }\n",
       "\n",
       "    .dataframe tbody tr th {\n",
       "        vertical-align: top;\n",
       "    }\n",
       "\n",
       "    .dataframe thead th {\n",
       "        text-align: right;\n",
       "    }\n",
       "</style>\n",
       "<table border=\"1\" class=\"dataframe\">\n",
       "  <thead>\n",
       "    <tr style=\"text-align: right;\">\n",
       "      <th></th>\n",
       "      <th>age</th>\n",
       "      <th>sex</th>\n",
       "      <th>bmi</th>\n",
       "      <th>bp</th>\n",
       "      <th>s1</th>\n",
       "      <th>s2</th>\n",
       "      <th>s3</th>\n",
       "      <th>s4</th>\n",
       "      <th>s5</th>\n",
       "      <th>s6</th>\n",
       "      <th>Target</th>\n",
       "    </tr>\n",
       "  </thead>\n",
       "  <tbody>\n",
       "    <tr>\n",
       "      <th>0</th>\n",
       "      <td>0.038076</td>\n",
       "      <td>0.050680</td>\n",
       "      <td>0.061696</td>\n",
       "      <td>0.021872</td>\n",
       "      <td>-0.044223</td>\n",
       "      <td>-0.034821</td>\n",
       "      <td>-0.043401</td>\n",
       "      <td>-0.002592</td>\n",
       "      <td>0.019907</td>\n",
       "      <td>-0.017646</td>\n",
       "      <td>151.0</td>\n",
       "    </tr>\n",
       "    <tr>\n",
       "      <th>1</th>\n",
       "      <td>-0.001882</td>\n",
       "      <td>-0.044642</td>\n",
       "      <td>-0.051474</td>\n",
       "      <td>-0.026328</td>\n",
       "      <td>-0.008449</td>\n",
       "      <td>-0.019163</td>\n",
       "      <td>0.074412</td>\n",
       "      <td>-0.039493</td>\n",
       "      <td>-0.068332</td>\n",
       "      <td>-0.092204</td>\n",
       "      <td>75.0</td>\n",
       "    </tr>\n",
       "    <tr>\n",
       "      <th>2</th>\n",
       "      <td>0.085299</td>\n",
       "      <td>0.050680</td>\n",
       "      <td>0.044451</td>\n",
       "      <td>-0.005670</td>\n",
       "      <td>-0.045599</td>\n",
       "      <td>-0.034194</td>\n",
       "      <td>-0.032356</td>\n",
       "      <td>-0.002592</td>\n",
       "      <td>0.002861</td>\n",
       "      <td>-0.025930</td>\n",
       "      <td>141.0</td>\n",
       "    </tr>\n",
       "    <tr>\n",
       "      <th>3</th>\n",
       "      <td>-0.089063</td>\n",
       "      <td>-0.044642</td>\n",
       "      <td>-0.011595</td>\n",
       "      <td>-0.036656</td>\n",
       "      <td>0.012191</td>\n",
       "      <td>0.024991</td>\n",
       "      <td>-0.036038</td>\n",
       "      <td>0.034309</td>\n",
       "      <td>0.022688</td>\n",
       "      <td>-0.009362</td>\n",
       "      <td>206.0</td>\n",
       "    </tr>\n",
       "    <tr>\n",
       "      <th>4</th>\n",
       "      <td>0.005383</td>\n",
       "      <td>-0.044642</td>\n",
       "      <td>-0.036385</td>\n",
       "      <td>0.021872</td>\n",
       "      <td>0.003935</td>\n",
       "      <td>0.015596</td>\n",
       "      <td>0.008142</td>\n",
       "      <td>-0.002592</td>\n",
       "      <td>-0.031988</td>\n",
       "      <td>-0.046641</td>\n",
       "      <td>135.0</td>\n",
       "    </tr>\n",
       "  </tbody>\n",
       "</table>\n",
       "</div>"
      ],
      "text/plain": [
       "        age       sex       bmi        bp        s1        s2        s3  \\\n",
       "0  0.038076  0.050680  0.061696  0.021872 -0.044223 -0.034821 -0.043401   \n",
       "1 -0.001882 -0.044642 -0.051474 -0.026328 -0.008449 -0.019163  0.074412   \n",
       "2  0.085299  0.050680  0.044451 -0.005670 -0.045599 -0.034194 -0.032356   \n",
       "3 -0.089063 -0.044642 -0.011595 -0.036656  0.012191  0.024991 -0.036038   \n",
       "4  0.005383 -0.044642 -0.036385  0.021872  0.003935  0.015596  0.008142   \n",
       "\n",
       "         s4        s5        s6  Target  \n",
       "0 -0.002592  0.019907 -0.017646   151.0  \n",
       "1 -0.039493 -0.068332 -0.092204    75.0  \n",
       "2 -0.002592  0.002861 -0.025930   141.0  \n",
       "3  0.034309  0.022688 -0.009362   206.0  \n",
       "4 -0.002592 -0.031988 -0.046641   135.0  "
      ]
     },
     "execution_count": 2,
     "metadata": {},
     "output_type": "execute_result"
    }
   ],
   "source": [
    "# Load the diabetes dataset\n",
    "diabetes = datasets.load_diabetes()\n",
    "\n",
    "# Convert to DataFrame\n",
    "df = pd.DataFrame(diabetes.data, columns=diabetes.feature_names)\n",
    "df['Target'] = diabetes.target\n",
    "\n",
    "# Display the first few rows of the dataframe\n",
    "df.head()"
   ]
  },
  {
   "cell_type": "markdown",
   "id": "b6b37524",
   "metadata": {},
   "source": [
    "## Data Preprocessing"
   ]
  },
  {
   "cell_type": "code",
   "execution_count": 4,
   "id": "0b9425f1",
   "metadata": {},
   "outputs": [],
   "source": [
    "# Define the features and the target\n",
    "X = df.drop('Target', axis=1)\n",
    "y = df['Target']"
   ]
  },
  {
   "cell_type": "code",
   "execution_count": 5,
   "id": "26fdf4b6",
   "metadata": {},
   "outputs": [],
   "source": [
    "# Add a column of ones to X for the intercept\n",
    "X = np.hstack((np.ones((X.shape[0], 1)), X))"
   ]
  },
  {
   "cell_type": "markdown",
   "id": "51f9b647",
   "metadata": {},
   "source": [
    "## Defining the Linear Regression Coefficients Function"
   ]
  },
  {
   "cell_type": "code",
   "execution_count": 6,
   "id": "5c42d0b0",
   "metadata": {},
   "outputs": [],
   "source": [
    "# Define a function to compute the coefficients\n",
    "def linear_regression_coeffs(X, y):\n",
    "    # Compute the coefficients using the formula\n",
    "    beta = np.linalg.inv(X.T @ X) @ X.T @ y\n",
    "    return beta"
   ]
  },
  {
   "cell_type": "markdown",
   "id": "e087452a",
   "metadata": {},
   "source": [
    "## Computing Model Coefficients"
   ]
  },
  {
   "cell_type": "code",
   "execution_count": 7,
   "id": "50764170",
   "metadata": {},
   "outputs": [],
   "source": [
    "# Calculate coefficients\n",
    "coefficients = linear_regression_coeffs(X, y)\n",
    "\n",
    "# Separate intercept from other coefficients\n",
    "intercept, coefficients = coefficients[0], coefficients[1:]"
   ]
  },
  {
   "cell_type": "markdown",
   "id": "770a1a01",
   "metadata": {},
   "source": [
    "## Splitting the Data for Training and Testing"
   ]
  },
  {
   "cell_type": "code",
   "execution_count": 8,
   "id": "c4b9e6b9",
   "metadata": {},
   "outputs": [],
   "source": [
    "# Splitting the data into training and testing sets\n",
    "X_train, X_test, y_train, y_test = train_test_split(X, y, test_size=0.2, random_state=42)\n"
   ]
  },
  {
   "cell_type": "markdown",
   "id": "796fe2e6",
   "metadata": {},
   "source": [
    "## Model Training"
   ]
  },
  {
   "cell_type": "code",
   "execution_count": 9,
   "id": "2c978bbd",
   "metadata": {},
   "outputs": [],
   "source": [
    "# Calculate coefficients for the training set\n",
    "coefficients_train = linear_regression_coeffs(X_train, y_train)\n",
    "\n",
    "# Separate intercept from other coefficients for the training set\n",
    "intercept_train, coefficients_train = coefficients_train[0], coefficients_train[1:]"
   ]
  },
  {
   "cell_type": "markdown",
   "id": "e1dcd856",
   "metadata": {},
   "source": [
    "## Making Predictions"
   ]
  },
  {
   "cell_type": "code",
   "execution_count": 10,
   "id": "f6d9a0b3",
   "metadata": {},
   "outputs": [],
   "source": [
    "# Predict function\n",
    "def predict(X, coefficients, intercept):\n",
    "    return X @ coefficients + intercept\n",
    "\n",
    "# Predict on the testing set\n",
    "y_pred_test = predict(X_test[:, 1:], coefficients_train, intercept_train)"
   ]
  },
  {
   "cell_type": "markdown",
   "id": "cf979d59",
   "metadata": {},
   "source": [
    "## Model Evaluation and Results Visualization"
   ]
  },
  {
   "cell_type": "code",
   "execution_count": 11,
   "id": "d362c815",
   "metadata": {},
   "outputs": [
    {
     "data": {
      "image/png": "[encoded data removed]",
      "text/plain": [
       "<Figure size 1000x600 with 1 Axes>"
      ]
     },
     "metadata": {},
     "output_type": "display_data"
    },
    {
     "name": "stdout",
     "output_type": "stream",
     "text": [
      "R-squared for test set: 0.45, MSE for test set: 2900.19\n"
     ]
    }
   ],
   "source": [
    "# Calculate R-squared and Mean Squared Error for the test set\n",
    "r_squared_test = r2_score(y_test, y_pred_test)\n",
    "mse_test = mean_squared_error(y_test, y_pred_test)\n",
    "\n",
    "# Plotting the true vs predicted values for the test set\n",
    "plt.figure(figsize=(10, 6))\n",
    "plt.scatter(y_test, y_pred_test, color='red', alpha=0.5, label='Predicted vs Actual')\n",
    "plt.plot([y.min(), y.max()], [y.min(), y.max()], 'k--', lw=2, label='Ideal Fit')\n",
    "plt.xlabel('True Values (Test Set)')\n",
    "plt.ylabel('Predictions (Test Set)')\n",
    "plt.title(f'Linear Regression Predictions on Test Set\\nR-squared: {r_squared_test:.2f}, MSE: {mse_test:.2f}')\n",
    "plt.legend()\n",
    "plt.show()\n",
    "\n",
    "print(f'R-squared for test set: {r_squared_test:.2f}, MSE for test set: {mse_test:.2f}')"
   ]
  },
  {
   "cell_type": "markdown",
   "id": "17868206",
   "metadata": {},
   "source": [
    "## Conclusion\n",
    "\n",
    "Based on the evaluation metrics and the visualization of our linear regression model:\n",
    "\n",
    "1. The model explains nearly half (45%) of the variation in the diabetes progression data. This indicates that while the model has learned some patterns, it might not capture all the complexities of the dataset.\n",
    "2. The mean squared error (MSE) of the predictions is relatively high, suggesting that there is a noticeable difference between the predicted values and the actual values.\n",
    "3. The predictions are more accurate for lower target values and become less precise for higher target values.\n",
    "4. There is potential to improve the model. This might involve including more relevant features, using more sophisticated modeling techniques, or both.\n",
    "\n",
    "In summary, the current model serves as a starting point, but for more accurate predictions of diabetes progression, further model refinement and complexity are likely needed.\n"
   ]
  },
  {
   "cell_type": "code",
   "execution_count": null,
   "id": "a1209714",
   "metadata": {},
   "outputs": [],
   "source": []
  }
 ],
 "metadata": {
  "kernelspec": {
   "display_name": "Python 3 (ipykernel)",
   "language": "python",
   "name": "python3"
  },
  "language_info": {
   "codemirror_mode": {
    "name": "ipython",
    "version": 3
   },
   "file_extension": ".py",
   "mimetype": "text/x-python",
   "name": "python",
   "nbconvert_exporter": "python",
   "pygments_lexer": "ipython3",
   "version": "3.11.5"
  }
 },
 "nbformat": 4,
 "nbformat_minor": 5
}
