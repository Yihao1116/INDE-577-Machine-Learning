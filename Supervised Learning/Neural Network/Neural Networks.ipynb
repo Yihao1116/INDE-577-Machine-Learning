{
 "cells": [
  {
   "cell_type": "markdown",
   "id": "17f0bfbc",
   "metadata": {},
   "source": [
    "# Neural Networks\n",
    "\n",
    "Neural networks are computing systems inspired by the brain's neural networks. They are composed of layers of nodes that can learn to recognize patterns and make decisions. These systems are widely used for tasks that involve recognizing complex patterns, such as image and voice recognition.\n",
    "\n",
    "In this notebook, we build a simple neural network that includes:\n",
    "\n",
    "- **Input Layer**: Where the data is introduced to the network.\n",
    "- **Hidden Layers**: Where intermediate processing occurs, using the sigmoid activation function for non-linearity.\n",
    "- **Output Layer**: Where the final predictions are made, using the softmax function for classification.\n",
    "\n",
    "The learning process of the network is based on adjusting weights through an algorithm called Gradient Descent. This algorithm tweaks the internal parameters of the network to reduce the difference between the actual and predicted outputs, a process known as minimizing the loss.\n",
    "\n",
    "![Alt text](neural_networks.png)\n",
    "\n",
    "## Key Equations\n",
    "\n",
    "The sigmoid function, which adds non-linearity to the model, is represented as:\n",
    "\n",
    "$$ \\sigma(x) = \\frac{1}{1 + e^{-x}} $$\n",
    "\n",
    "During the training, we update the network's weights \\\\( \\theta \\\\) using a measure of the error, which involves calculating the derivative of the loss with respect to the weights. The learning rate \\\\( \\alpha \\\\) controls how big of a step we take on each update.\n"
   ]
  },
  {
   "cell_type": "code",
   "execution_count": 18,
   "id": "7fb64425",
   "metadata": {},
   "outputs": [],
   "source": [
    "import numpy as np\n",
    "from sklearn.datasets import load_iris\n",
    "from sklearn.model_selection import train_test_split\n",
    "from sklearn.preprocessing import StandardScaler\n",
    "from sklearn.metrics import accuracy_score, classification_report, confusion_matrix\n",
    "import seaborn as sns\n",
    "import matplotlib.pyplot as plt"
   ]
  },
  {
   "cell_type": "markdown",
   "id": "f6be2adc",
   "metadata": {},
   "source": [
    "## Activation and Loss Functions\n",
    "\n",
    "We define the sigmoid and softmax activation functions for the neurons. The cross-entropy function is used to calculate the loss.\n"
   ]
  },
  {
   "cell_type": "code",
   "execution_count": 13,
   "id": "ae6ad4d3",
   "metadata": {},
   "outputs": [],
   "source": [
    "# Activation functions\n",
    "def sigmoid(x):\n",
    "    return 1 / (1 + np.exp(-x))\n",
    "\n",
    "def sigmoid_derivative(x):\n",
    "    return x * (1 - x)\n",
    "\n",
    "def softmax(x):\n",
    "    e_x = np.exp(x - np.max(x, axis=1, keepdims=True))\n",
    "    return e_x / e_x.sum(axis=1, keepdims=True)\n",
    "\n",
    "# Cross-entropy loss and its derivative\n",
    "def cross_entropy(y_true, y_pred):\n",
    "    # Add epsilon to prevent division by zero\n",
    "    epsilon = 1e-12\n",
    "    y_pred = np.clip(y_pred, epsilon, 1. - epsilon)\n",
    "    return -np.mean(y_true * np.log(y_pred))\n",
    "\n",
    "def cross_entropy_derivative(y_true, y_pred):\n",
    "    return y_pred - y_true\n",
    "\n",
    "# Initialize weights and biases\n",
    "def initialize_weights(input_size, hidden1_size, hidden2_size, output_size):\n",
    "    W1 = np.random.randn(input_size, hidden1_size) * np.sqrt(2. / input_size)\n",
    "    b1 = np.zeros((1, hidden1_size))\n",
    "    W2 = np.random.randn(hidden1_size, hidden2_size) * np.sqrt(2. / hidden1_size)\n",
    "    b2 = np.zeros((1, hidden2_size))\n",
    "    W3 = np.random.randn(hidden2_size, output_size) * np.sqrt(2. / hidden2_size)\n",
    "    b3 = np.zeros((1, output_size))\n",
    "    return [W1, W2, W3], [b1, b2, b3]\n",
    "\n",
    "# Forward propagation\n",
    "def forward_propagation(X, weights, biases):\n",
    "    A = X\n",
    "    cache = [(None, X)]\n",
    "    for W, b in zip(weights, biases):\n",
    "        Z = A.dot(W) + b\n",
    "        if W is not weights[-1]:  # Not the last layer\n",
    "            A = sigmoid(Z)\n",
    "        else:\n",
    "            A = softmax(Z)\n",
    "        cache.append((Z, A))\n",
    "    return cache\n",
    "\n",
    "# Backward propagation\n",
    "def backward_propagation(y_true, cache, weights):\n",
    "    Z, A = cache[-1]\n",
    "    dZ = cross_entropy_derivative(y_true, A)\n",
    "    dWs = []\n",
    "    dBs = []\n",
    "    \n",
    "    for i in reversed(range(len(weights))):\n",
    "        Z, A_prev = cache[i]\n",
    "        W = weights[i]\n",
    "        dW = A_prev.T.dot(dZ) / len(y_true)\n",
    "        dB = np.mean(dZ, axis=0, keepdims=True)\n",
    "        if i > 0:\n",
    "            dZ = dZ.dot(W.T) * sigmoid_derivative(A_prev)\n",
    "        dWs.insert(0, dW)\n",
    "        dBs.insert(0, dB)\n",
    "    return dWs, dBs\n",
    "\n",
    "# Update parameters\n",
    "def update_parameters(weights, biases, dWs, dBs, alpha):\n",
    "    for i in range(len(weights)):\n",
    "        weights[i] -= alpha * dWs[i]\n",
    "        biases[i] -= alpha * dBs[i]\n",
    "    return weights, biases\n",
    "\n",
    "# Training function\n",
    "def train(X_train, y_train, input_size, hidden1_size, hidden2_size, output_size, alpha, epochs):\n",
    "    weights, biases = initialize_weights(input_size, hidden1_size, hidden2_size, output_size)\n",
    "    for epoch in range(epochs):\n",
    "        cache = forward_propagation(X_train, weights, biases)\n",
    "        dWs, dBs = backward_propagation(y_train, cache, weights)\n",
    "        weights, biases = update_parameters(weights, biases, dWs, dBs, alpha)\n",
    "        \n",
    "        # Calculate and print the loss every 10 epochs\n",
    "        if (epoch + 1) % 10 == 0 or epoch == epochs - 1:\n",
    "            cost = cross_entropy(y_train, cache[-1][1])\n",
    "            print(f\"Epoch {epoch + 1}/{epochs}, Cost: {cost:.4f}\")\n",
    "    return weights, biases\n",
    "\n",
    "# Prediction function\n",
    "def predict(X, weights, biases):\n",
    "    cache = forward_propagation(X, weights, biases)\n",
    "    A_last = cache[-1][1]\n",
    "    return np.argmax(A_last, axis=1)"
   ]
  },
  {
   "cell_type": "markdown",
   "id": "62b7d050",
   "metadata": {},
   "source": [
    "## Data Preprocessing\n",
    "\n",
    "The Iris dataset is loaded, and the features are standardized. The data is then split into training and testing sets for model evaluation.\n"
   ]
  },
  {
   "cell_type": "code",
   "execution_count": 14,
   "id": "21741465",
   "metadata": {},
   "outputs": [],
   "source": [
    "# Prepare the Iris dataset\n",
    "iris = load_iris()\n",
    "X, y = iris.data, iris.target\n",
    "y_onehot = np.eye(3)[y]  # Convert to one-hot encoding\n",
    "\n",
    "# Split and standardize the dataset\n",
    "X_train, X_test, y_train, y_test = train_test_split(X, y_onehot, test_size=0.3, random_state=42)\n",
    "scaler = StandardScaler()\n",
    "X_train_scaled = scaler.fit_transform(X_train)\n",
    "X_test_scaled = scaler.transform(X_test)"
   ]
  },
  {
   "cell_type": "markdown",
   "id": "964bc67f",
   "metadata": {},
   "source": [
    "## Training the Neural Network\n",
    "\n",
    "The neural network is trained over several epochs, where the weights are updated to minimize the loss after each epoch.\n"
   ]
  },
  {
   "cell_type": "code",
   "execution_count": 15,
   "id": "1af47c35",
   "metadata": {},
   "outputs": [
    {
     "name": "stdout",
     "output_type": "stream",
     "text": [
      "Epoch 10/200, Cost: 0.3812\n",
      "Epoch 20/200, Cost: 0.3611\n",
      "Epoch 30/200, Cost: 0.3529\n",
      "Epoch 40/200, Cost: 0.3450\n",
      "Epoch 50/200, Cost: 0.3368\n",
      "Epoch 60/200, Cost: 0.3282\n",
      "Epoch 70/200, Cost: 0.3191\n",
      "Epoch 80/200, Cost: 0.3095\n",
      "Epoch 90/200, Cost: 0.2996\n",
      "Epoch 100/200, Cost: 0.2894\n",
      "Epoch 110/200, Cost: 0.2790\n",
      "Epoch 120/200, Cost: 0.2687\n",
      "Epoch 130/200, Cost: 0.2585\n",
      "Epoch 140/200, Cost: 0.2486\n",
      "Epoch 150/200, Cost: 0.2392\n",
      "Epoch 160/200, Cost: 0.2302\n",
      "Epoch 170/200, Cost: 0.2217\n",
      "Epoch 180/200, Cost: 0.2137\n",
      "Epoch 190/200, Cost: 0.2063\n",
      "Epoch 200/200, Cost: 0.1993\n"
     ]
    }
   ],
   "source": [
    "# Neural network hyperparameters\n",
    "input_size = 4  # Iris dataset features\n",
    "hidden1_size = 10\n",
    "hidden2_size = 10\n",
    "output_size = 3  # Iris dataset classes\n",
    "alpha = 0.1  # Learning rate\n",
    "epochs = 200  # Number of epochs for training\n",
    "\n",
    "# Train the neural network\n",
    "weights, biases = train(X_train_scaled, y_train, input_size, hidden1_size, hidden2_size, output_size, alpha, epochs)"
   ]
  },
  {
   "cell_type": "markdown",
   "id": "1323df4e",
   "metadata": {},
   "source": [
    "## Model Evaluation and Visualization\n",
    "\n",
    "Post-training, the model's accuracy is assessed on the test data. A confusion matrix is plotted to visualize the model's classification performance.\n"
   ]
  },
  {
   "cell_type": "code",
   "execution_count": 16,
   "id": "ae5655b5",
   "metadata": {},
   "outputs": [
    {
     "name": "stdout",
     "output_type": "stream",
     "text": [
      "\n",
      "Test Accuracy: 84.44%\n",
      "\n",
      "Classification Report\n",
      "              precision    recall  f1-score   support\n",
      "\n",
      "      setosa       1.00      1.00      1.00        19\n",
      "  versicolor       1.00      0.46      0.63        13\n",
      "   virginica       0.65      1.00      0.79        13\n",
      "\n",
      "    accuracy                           0.84        45\n",
      "   macro avg       0.88      0.82      0.81        45\n",
      "weighted avg       0.90      0.84      0.83        45\n",
      "\n"
     ]
    }
   ],
   "source": [
    "# Evaluate the model\n",
    "y_pred = predict(X_test_scaled, weights, biases)\n",
    "y_test_class = np.argmax(y_test, axis=1)\n",
    "accuracy = accuracy_score(y_test_class, y_pred)\n",
    "print(f\"\\nTest Accuracy: {accuracy * 100:.2f}%\")\n",
    "print(\"\\nClassification Report\")\n",
    "print(classification_report(y_test_class, y_pred, target_names=iris.target_names))"
   ]
  },
  {
   "cell_type": "code",
   "execution_count": 19,
   "id": "678c4668",
   "metadata": {},
   "outputs": [
    {
     "data": {
      "image/png": "[encoded data removed]",
      "text/plain": [
       "<Figure size 800x600 with 2 Axes>"
      ]
     },
     "metadata": {},
     "output_type": "display_data"
    }
   ],
   "source": [
    "class_names = ['Setosa', 'Versicolor', 'Virginica']\n",
    "\n",
    "# Calculate the confusion matrix\n",
    "cm = confusion_matrix(y_test_class, y_pred)\n",
    "\n",
    "# Plot the confusion matrix using Seaborn's heatmap\n",
    "plt.figure(figsize=(8, 6))  # Optional: you can define the figure size\n",
    "sns.heatmap(cm, annot=True, fmt=\"d\", cmap=\"Blues\", xticklabels=class_names, yticklabels=class_names)\n",
    "plt.xlabel(\"Predicted\")\n",
    "plt.ylabel(\"True\")\n",
    "plt.title(\"Confusion Matrix\")\n",
    "plt.show()"
   ]
  },
  {
   "cell_type": "markdown",
   "id": "47621c58",
   "metadata": {},
   "source": [
    "## Conclusion\n",
    "\n",
    "The neural network trained on the Iris dataset achieved an accuracy of 84.44%, showing it can effectively classify iris species most of the time. The model did exceptionally well with the Setosa species but had some difficulty telling Versicolor and Virginica apart.\n",
    "\n",
    "As the cost decreased steadily during training, this indicates our model was learning from the data as expected. However, the mix-up between Versicolor and Virginica suggests there might be room to improve the model, perhaps by tweaking the network design or training for more epochs.\n",
    "\n",
    "Overall, the results are encouraging and demonstrate the neural network's capability to learn patterns and make predictions in a multi-class classification problem."
   ]
  },
  {
   "cell_type": "code",
   "execution_count": null,
   "id": "b185bc9e",
   "metadata": {},
   "outputs": [],
   "source": []
  }
 ],
 "metadata": {
  "kernelspec": {
   "display_name": "Python 3 (ipykernel)",
   "language": "python",
   "name": "python3"
  },
  "language_info": {
   "codemirror_mode": {
    "name": "ipython",
    "version": 3
   },
   "file_extension": ".py",
   "mimetype": "text/x-python",
   "name": "python",
   "nbconvert_exporter": "python",
   "pygments_lexer": "ipython3",
   "version": "3.11.5"
  }
 },
 "nbformat": 4,
 "nbformat_minor": 5
}
